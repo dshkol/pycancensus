{
 "cells": [
  {
   "cell_type": "markdown",
   "metadata": {},
   "source": [
    "# pycancensus Testing Notebook\n",
    "\n",
    "This notebook is for testing the basic functionality of the pycancensus package.\n",
    "\n",
    "## Setup\n",
    "\n",
    "First, install the package in development mode:\n",
    "```bash\n",
    "cd /path/to/pycancensus\n",
    "pip install -e .\n",
    "```\n",
    "\n",
    "Or install dependencies manually:\n",
    "```bash\n",
    "pip install requests pandas geopandas\n",
    "```"
   ]
  },
  {
   "cell_type": "code",
   "execution_count": null,
   "metadata": {},
   "outputs": [],
   "source": [
    "# Add the package to Python path if not installed\n",
    "import sys\n",
    "import os\n",
    "sys.path.insert(0, os.path.join(os.getcwd(), '..'))\n",
    "\n",
    "import pycancensus as pc\n",
    "import pandas as pd\n",
    "import geopandas as gpd\n",
    "\n",
    "print(f\"pycancensus version: {pc.__version__}\")"
   ]
  },
  {
   "cell_type": "markdown",
   "metadata": {},
   "source": [
    "## 1. Set API Key\n",
    "\n",
    "Get a free API key at: https://censusmapper.ca/users/sign_up"
   ]
  },
  {
   "cell_type": "code",
   "execution_count": null,
   "metadata": {},
   "outputs": [],
   "source": [
    "# Set your API key here\n",
    "# pc.set_api_key(\"your_api_key_here\")\n",
    "\n",
    "# Or set as environment variable\n",
    "# import os\n",
    "# os.environ['CANCENSUS_API_KEY'] = 'your_api_key_here'\n",
    "\n",
    "# Check if API key is set\n",
    "api_key = pc.get_api_key()\n",
    "if api_key:\n",
    "    print(f\"API key is set: {api_key[:8]}...\")\n",
    "else:\n",
    "    print(\"⚠️  No API key set. Please set one to test API functions.\")"
   ]
  },
  {
   "cell_type": "markdown",
   "metadata": {},
   "source": [
    "## 2. Test Basic Functions (No API Required)"
   ]
  },
  {
   "cell_type": "code",
   "execution_count": null,
   "metadata": {},
   "outputs": [],
   "source": [
    "# Test utility functions\n",
    "from pycancensus.utils import validate_dataset, validate_level, process_regions\n",
    "\n",
    "print(\"Testing utility functions:\")\n",
    "print(f\"validate_dataset('ca16'): {validate_dataset('ca16')}\")\n",
    "print(f\"validate_level('CMA'): {validate_level('CMA')}\")\n",
    "print(f\"process_regions({{'CMA': '59933'}}): {process_regions({'CMA': '59933'})}\")"
   ]
  },
  {
   "cell_type": "code",
   "execution_count": null,
   "metadata": {},
   "outputs": [],
   "source": [
    "# Test cache functions\n",
    "from pycancensus.cache import cache_data, get_cached_data, list_cache\n",
    "\n",
    "print(\"Testing cache functions:\")\n",
    "\n",
    "# Test caching a simple DataFrame\n",
    "test_df = pd.DataFrame({'col1': [1, 2, 3], 'col2': ['a', 'b', 'c']})\n",
    "cache_data('test_key', test_df)\n",
    "\n",
    "# Retrieve from cache\n",
    "cached_df = get_cached_data('test_key')\n",
    "print(f\"Cached data retrieved successfully: {cached_df is not None}\")\n",
    "if cached_df is not None:\n",
    "    print(cached_df)\n",
    "\n",
    "# List cache\n",
    "cache_list = list_cache()\n",
    "print(f\"\\nCache entries: {len(cache_list)}\")\n",
    "if len(cache_list) > 0:\n",
    "    print(cache_list)"
   ]
  },
  {
   "cell_type": "markdown",
   "metadata": {},
   "source": [
    "## 3. Test API Functions (API Key Required)\n",
    "\n",
    "**Note:** These tests require a valid API key. Skip if you don't have one yet."
   ]
  },
  {
   "cell_type": "code",
   "execution_count": null,
   "metadata": {},
   "outputs": [],
   "source": [
    "# Test if we can make API calls\n",
    "has_api_key = pc.get_api_key() is not None\n",
    "print(f\"Can test API functions: {has_api_key}\")\n",
    "\n",
    "if not has_api_key:\n",
    "    print(\"\\n⚠️  Skipping API tests. Set API key to test these functions.\")\n",
    "    print(\"   Get a free key at: https://censusmapper.ca/users/sign_up\")\n",
    "    print(\"   Then run: pc.set_api_key('your_key_here')\")"
   ]
  },
  {
   "cell_type": "code",
   "execution_count": null,
   "metadata": {},
   "outputs": [],
   "source": [
    "# Test listing datasets\n",
    "if has_api_key:\n",
    "    try:\n",
    "        print(\"Testing list_census_datasets()...\")\n",
    "        datasets = pc.list_census_datasets()\n",
    "        print(f\"✅ Success! Found {len(datasets)} datasets\")\n",
    "        print(datasets.head())\n",
    "    except Exception as e:\n",
    "        print(f\"❌ Error: {e}\")\n",
    "else:\n",
    "    print(\"⏭️  Skipping dataset test (no API key)\")"
   ]
  },
  {
   "cell_type": "code",
   "execution_count": null,
   "metadata": {},
   "outputs": [],
   "source": [
    "# Test listing regions\n",
    "if has_api_key:\n",
    "    try:\n",
    "        print(\"Testing list_census_regions('CA16')...\")\n",
    "        regions = pc.list_census_regions('CA16')\n",
    "        print(f\"✅ Success! Found {len(regions)} regions\")\n",
    "        print(regions.head())\n",
    "    except Exception as e:\n",
    "        print(f\"❌ Error: {e}\")\n",
    "else:\n",
    "    print(\"⏭️  Skipping regions test (no API key)\")"
   ]
  },
  {
   "cell_type": "code",
   "execution_count": null,
   "metadata": {},
   "outputs": [],
   "source": [
    "# Test searching regions\n",
    "if has_api_key:\n",
    "    try:\n",
    "        print(\"Testing search_census_regions('Vancouver', 'CA16')...\")\n",
    "        vancouver_regions = pc.search_census_regions('Vancouver', 'CA16')\n",
    "        print(f\"✅ Success! Found {len(vancouver_regions)} Vancouver regions\")\n",
    "        if len(vancouver_regions) > 0:\n",
    "            print(vancouver_regions[['region', 'name', 'level']].head())\n",
    "    except Exception as e:\n",
    "        print(f\"❌ Error: {e}\")\n",
    "else:\n",
    "    print(\"⏭️  Skipping region search test (no API key)\")"
   ]
  },
  {
   "cell_type": "code",
   "execution_count": null,
   "metadata": {},
   "outputs": [],
   "source": [
    "# Test listing vectors\n",
    "if has_api_key:\n",
    "    try:\n",
    "        print(\"Testing list_census_vectors('CA16')...\")\n",
    "        vectors = pc.list_census_vectors('CA16')\n",
    "        print(f\"✅ Success! Found {len(vectors)} vectors\")\n",
    "        print(vectors.head())\n",
    "    except Exception as e:\n",
    "        print(f\"❌ Error: {e}\")\n",
    "else:\n",
    "    print(\"⏭️  Skipping vectors test (no API key)\")"
   ]
  },
  {
   "cell_type": "code",
   "execution_count": null,
   "metadata": {},
   "outputs": [],
   "source": [
    "# Test searching vectors\n",
    "if has_api_key:\n",
    "    try:\n",
    "        print(\"Testing search_census_vectors('population', 'CA16')...\")\n",
    "        pop_vectors = pc.search_census_vectors('population', 'CA16')\n",
    "        print(f\"✅ Success! Found {len(pop_vectors)} population vectors\")\n",
    "        if len(pop_vectors) > 0:\n",
    "            print(pop_vectors[['vector', 'label', 'type']].head())\n",
    "    except Exception as e:\n",
    "        print(f\"❌ Error: {e}\")\n",
    "else:\n",
    "    print(\"⏭️  Skipping vector search test (no API key)\")"
   ]
  },
  {
   "cell_type": "markdown",
   "metadata": {},
   "source": [
    "## 4. Test Data Retrieval (Advanced API Tests)"
   ]
  },
  {
   "cell_type": "code",
   "execution_count": null,
   "metadata": {},
   "outputs": [],
   "source": [
    "# Test getting census data (tabular)\n",
    "if has_api_key:\n",
    "    try:\n",
    "        print(\"Testing get_census() for Vancouver CMA...\")\n",
    "        data = pc.get_census(\n",
    "            dataset='CA16',\n",
    "            regions={'CMA': '59933'},  # Vancouver CMA\n",
    "            vectors=['v_CA16_1', 'v_CA16_2'],  # Population vectors\n",
    "            level='CSD'\n",
    "        )\n",
    "        print(f\"✅ Success! Retrieved data shape: {data.shape}\")\n",
    "        print(f\"Columns: {list(data.columns)}\")\n",
    "        print(data.head())\n",
    "    except Exception as e:\n",
    "        print(f\"❌ Error: {e}\")\n",
    "        print(\"This might be due to API endpoint differences - we may need to adjust the implementation\")\n",
    "else:\n",
    "    print(\"⏭️  Skipping data retrieval test (no API key)\")"
   ]
  },
  {
   "cell_type": "code",
   "execution_count": null,
   "metadata": {},
   "outputs": [],
   "source": [
    "# Test getting census data with geometry\n",
    "if has_api_key:\n",
    "    try:\n",
    "        print(\"Testing get_census() with geometry...\")\n",
    "        geo_data = pc.get_census(\n",
    "            dataset='CA16',\n",
    "            regions={'CMA': '59933'},  # Vancouver CMA\n",
    "            vectors=['v_CA16_1'],\n",
    "            level='CSD',\n",
    "            geo_format='geopandas'\n",
    "        )\n",
    "        print(f\"✅ Success! Retrieved GeoDataFrame shape: {geo_data.shape}\")\n",
    "        print(f\"Columns: {list(geo_data.columns)}\")\n",
    "        print(f\"CRS: {geo_data.crs}\")\n",
    "        print(f\"Geometry type: {geo_data.geometry.geom_type.iloc[0] if len(geo_data) > 0 else 'N/A'}\")\n",
    "    except Exception as e:\n",
    "        print(f\"❌ Error: {e}\")\n",
    "        print(\"This might be due to API endpoint differences - we may need to adjust the implementation\")\n",
    "else:\n",
    "    print(\"⏭️  Skipping geometry test (no API key)\")"
   ]
  },
  {
   "cell_type": "code",
   "execution_count": null,
   "metadata": {},
   "outputs": [],
   "source": [
    "# Test getting geometries only\n",
    "if has_api_key:\n",
    "    try:\n",
    "        print(\"Testing get_census_geometry()...\")\n",
    "        geometries = pc.get_census_geometry(\n",
    "            dataset='CA16',\n",
    "            regions={'CMA': '59933'},\n",
    "            level='CSD'\n",
    "        )\n",
    "        print(f\"✅ Success! Retrieved geometries shape: {geometries.shape}\")\n",
    "        print(f\"Columns: {list(geometries.columns)}\")\n",
    "        print(f\"CRS: {geometries.crs}\")\n",
    "    except Exception as e:\n",
    "        print(f\"❌ Error: {e}\")\n",
    "        print(\"This might be due to API endpoint differences - we may need to adjust the implementation\")\n",
    "else:\n",
    "    print(\"⏭️  Skipping geometry-only test (no API key)\")"
   ]
  },
  {
   "cell_type": "markdown",
   "metadata": {},
   "source": [
    "## 5. Test Error Handling"
   ]
  },
  {
   "cell_type": "code",
   "execution_count": null,
   "metadata": {},
   "outputs": [],
   "source": [
    "# Test error handling with invalid inputs\n",
    "print(\"Testing error handling...\")\n",
    "\n",
    "# Test invalid dataset\n",
    "try:\n",
    "    from pycancensus.utils import validate_dataset\n",
    "    validate_dataset('invalid')\n",
    "    print(\"❌ Should have raised error for invalid dataset\")\n",
    "except ValueError as e:\n",
    "    print(f\"✅ Correctly caught invalid dataset: {e}\")\n",
    "\n",
    "# Test invalid level\n",
    "try:\n",
    "    from pycancensus.utils import validate_level\n",
    "    validate_level('invalid')\n",
    "    print(\"❌ Should have raised error for invalid level\")\n",
    "except ValueError as e:\n",
    "    print(f\"✅ Correctly caught invalid level: {e}\")\n",
    "\n",
    "# Test invalid regions\n",
    "try:\n",
    "    from pycancensus.utils import process_regions\n",
    "    process_regions({})\n",
    "    print(\"❌ Should have raised error for empty regions\")\n",
    "except ValueError as e:\n",
    "    print(f\"✅ Correctly caught empty regions: {e}\")"
   ]
  },
  {
   "cell_type": "markdown",
   "metadata": {},
   "source": [
    "## 6. Performance and Caching Tests"
   ]
  },
  {
   "cell_type": "code",
   "execution_count": null,
   "metadata": {},
   "outputs": [],
   "source": [
    "# Test caching performance\n",
    "if has_api_key:\n",
    "    import time\n",
    "    \n",
    "    print(\"Testing caching performance...\")\n",
    "    \n",
    "    try:\n",
    "        # First call (should hit API)\n",
    "        start_time = time.time()\n",
    "        regions1 = pc.list_census_regions('CA16', use_cache=True, quiet=True)\n",
    "        first_call_time = time.time() - start_time\n",
    "        \n",
    "        # Second call (should use cache)\n",
    "        start_time = time.time()\n",
    "        regions2 = pc.list_census_regions('CA16', use_cache=True, quiet=True)\n",
    "        second_call_time = time.time() - start_time\n",
    "        \n",
    "        print(f\"First call (API): {first_call_time:.2f}s\")\n",
    "        print(f\"Second call (cache): {second_call_time:.2f}s\")\n",
    "        print(f\"Speedup: {first_call_time/second_call_time:.1f}x\")\n",
    "        print(f\"Data identical: {regions1.equals(regions2)}\")\n",
    "        \n",
    "    except Exception as e:\n",
    "        print(f\"❌ Error in caching test: {e}\")\n",
    "else:\n",
    "    print(\"⏭️  Skipping caching performance test (no API key)\")"
   ]
  },
  {
   "cell_type": "markdown",
   "metadata": {},
   "source": [
    "## 7. Summary and Next Steps\n",
    "\n",
    "Use this section to note any issues found and improvements needed."
   ]
  },
  {
   "cell_type": "code",
   "execution_count": null,
   "metadata": {},
   "outputs": [],
   "source": [
    "print(\"🧪 Testing Summary\")\nprint(\"=\" * 50)\n\nif has_api_key:\n    print(\"✅ API key configured\")\n    print(\"✅ Ready for full testing\")\n    print(\"\\n📝 Notes:\")\n    print(\"- Test all functions with various parameters\")\n    print(\"- Check API response formats match expectations\")\n    print(\"- Verify error handling works correctly\")\n    print(\"- Test with different datasets (CA16, CA21, etc.)\")\n    print(\"- Test with different geographic levels\")\n    print(\"- Verify geometry data works correctly\")\nelse:\n    print(\"⚠️  API key not configured\")\n    print(\"✅ Basic functionality tests passed\")\n    print(\"\\n📝 Next steps:\")\n    print(\"1. Get API key from https://censusmapper.ca/users/sign_up\")\n    print(\"2. Set API key: pc.set_api_key('your_key')\")\n    print(\"3. Re-run notebook for full testing\")\n\nprint(\"\\n🔧 Potential improvements:\")\nprint(\"- Add more robust error handling\")\nprint(\"- Implement retry logic for API calls\")\nprint(\"- Add data validation for API responses\")\nprint(\"- Add progress bars for long operations\")\nprint(\"- Add examples for common use cases\")\nprint(\"- Add visualization helpers\")"
   ]
  }
 ],
 "metadata": {
  "kernelspec": {
   "display_name": "Python 3",
   "language": "python",
   "name": "python3"
  },
  "language_info": {
   "codemirror_mode": {
    "name": "ipython",
    "version": 3
   },
   "file_extension": ".py",
   "mimetype": "text/x-python",
   "name": "python",
   "nbconvert_exporter": "python",
   "pygments_lexer": "ipython3",
   "version": "3.8.5"
  }
 },
 "nbformat": 4,
 "nbformat_minor": 4
}