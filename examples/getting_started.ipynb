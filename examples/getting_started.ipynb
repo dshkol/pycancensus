{
 "cells": [
  {
   "cell_type": "markdown",
   "metadata": {},
   "source": [
    "# Getting Started with pycancensus\n",
    "\n",
    "This notebook provides a quick introduction to using the pycancensus package for accessing Canadian Census data.\n",
    "\n",
    "## What is pycancensus?\n",
    "\n",
    "pycancensus is a Python package that provides easy access to Canadian Census data through the CensusMapper API. It's the Python equivalent of the popular R `cancensus` package.\n",
    "\n",
    "### Key Features:\n",
    "- Access census data for multiple years (1996-2021)\n",
    "- Get data at various geographic levels (provinces, cities, neighborhoods)\n",
    "- Retrieve both tabular data and geographic boundaries\n",
    "- Built-in caching for improved performance\n",
    "- Integration with pandas and geopandas"
   ]
  },
  {
   "cell_type": "markdown",
   "metadata": {},
   "source": [
    "## Setup"
   ]
  },
  {
   "cell_type": "code",
   "execution_count": null,
   "metadata": {},
   "outputs": [],
   "source": [
    "# Import required libraries\n",
    "import pandas as pd\n",
    "import geopandas as gpd\n",
    "import matplotlib.pyplot as plt\n",
    "import pycancensus as pc\n",
    "\n",
    "print(\"✅ Libraries imported successfully!\")\n",
    "print(f\"📦 pycancensus version: {pc.__version__}\")"
   ]
  },
  {
   "cell_type": "markdown",
   "metadata": {},
   "source": [
    "## API Key Setup\n",
    "\n",
    "To use pycancensus, you need a free CensusMapper API key:\n",
    "\n",
    "1. Go to https://censusmapper.ca/users/sign_up\n",
    "2. Create a free account\n",
    "3. Get your API key from your profile\n",
    "4. Set it using the code below"
   ]
  },
  {
   "cell_type": "code",
   "execution_count": null,
   "metadata": {},
   "outputs": [],
   "source": [
    "# Check if API key is already set\n",
    "if pc.get_api_key():\n",
    "    print(\"✅ API key is already configured!\")\n",
    "    pc.show_api_key()\n",
    "else:\n",
    "    print(\"⚠️  No API key found.\")\n",
    "    print(\"Please set your API key:\")\n",
    "    print('pc.set_api_key(\"your_api_key_here\", install=True)')\n",
    "    \n",
    "    # Uncomment and add your API key here:\n",
    "    # pc.set_api_key(\"your_api_key_here\", install=True)"
   ]
  },
  {
   "cell_type": "markdown",
   "metadata": {},
   "source": [
    "## 1. Exploring Available Data"
   ]
  },
  {
   "cell_type": "code",
   "execution_count": null,
   "metadata": {},
   "outputs": [],
   "source": [
    "# List available census datasets\n",
    "print(\"📊 Available Census datasets:\")\n",
    "datasets = pc.list_census_datasets()\n",
    "\n",
    "# Show the main census years\n",
    "main_datasets = datasets[datasets['dataset'].str.match(r'CA\\d{2}$')]\n",
    "print(main_datasets[['dataset', 'description']].to_string(index=False))"
   ]
  },
  {
   "cell_type": "markdown",
   "metadata": {},
   "source": [
    "## 2. Basic Data Retrieval\n",
    "\n",
    "Let's get some basic population data for Vancouver."
   ]
  },
  {
   "cell_type": "code",
   "execution_count": null,
   "metadata": {},
   "outputs": [],
   "source": [
    "# Get basic population data for Vancouver CMA\n",
    "print(\"🔄 Fetching Vancouver CMA data...\")\n",
    "\n",
    "vancouver_data = pc.get_census(\n",
    "    dataset='CA16',  # 2016 Census\n",
    "    regions={'CMA': '59933'},  # Vancouver CMA\n",
    "    vectors=['v_CA16_1'],  # Total population\n",
    "    level='CSD'  # Census Subdivision level\n",
    ")\n",
    "\n",
    "print(f\"✅ Data retrieved! Shape: {vancouver_data.shape}\")\n",
    "print(f\"📍 Regions included: {len(vancouver_data)}\")\n",
    "\n",
    "# Display first few rows\n",
    "print(\"\\n📋 First 5 regions:\")\n",
    "display_cols = ['Region Name', 'Population ', 'v_CA16_1: Age Stats']\n",
    "available_cols = [col for col in display_cols if col in vancouver_data.columns]\n",
    "print(vancouver_data[available_cols].head())"
   ]
  },
  {
   "cell_type": "markdown",
   "metadata": {},
   "source": [
    "## 3. Getting Geographic Data\n",
    "\n",
    "pycancensus can also retrieve geographic boundaries for mapping."
   ]
  },
  {
   "cell_type": "code",
   "execution_count": null,
   "metadata": {},
   "outputs": [],
   "source": [
    "# Get the same data with geographic boundaries\n",
    "print(\"🗺️  Fetching data with geography...\")\n",
    "\n",
    "vancouver_geo = pc.get_census(\n",
    "    dataset='CA16',\n",
    "    regions={'CMA': '59933'},\n",
    "    vectors=['v_CA16_1'],\n",
    "    level='CSD',\n",
    "    geo_format='geopandas'  # This adds geographic boundaries\n",
    ")\n",
    "\n",
    "print(f\"✅ Geographic data retrieved!\")\n",
    "print(f\"📊 Data type: {type(vancouver_geo)}\")\n",
    "print(f\"🗺️  Coordinate system: {vancouver_geo.crs}\")\n",
    "print(f\"📐 Geometry types: {vancouver_geo.geometry.geom_type.value_counts().to_dict()}\")"
   ]
  },
  {
   "cell_type": "markdown",
   "metadata": {},
   "source": [
    "## 4. Creating a Simple Map"
   ]
  },
  {
   "cell_type": "code",
   "execution_count": null,
   "metadata": {},
   "outputs": [],
   "source": [
    "# Create a simple map showing population by region\n",
    "fig, ax = plt.subplots(figsize=(12, 8))\n",
    "\n",
    "# Plot the geographic boundaries colored by population\n",
    "vancouver_geo.plot(\n",
    "    column='pop',  # Color by population\n",
    "    cmap='YlOrRd',  # Color scheme\n",
    "    legend=True,\n",
    "    ax=ax,\n",
    "    edgecolor='black',\n",
    "    linewidth=0.5\n",
    ")\n",
    "\n",
    "ax.set_title('Population by Region - Vancouver CMA (2016)', fontsize=14, fontweight='bold')\n",
    "ax.set_xlabel('Longitude')\n",
    "ax.set_ylabel('Latitude')\n",
    "\n",
    "# Remove axis ticks for cleaner look\n",
    "ax.tick_params(axis='both', which='major', labelsize=8)\n",
    "\n",
    "plt.tight_layout()\n",
    "plt.show()\n",
    "\n",
    "print(\"✅ Map created successfully!\")"
   ]
  },
  {
   "cell_type": "markdown",
   "metadata": {},
   "source": [
    "## 5. Working with Multiple Variables\n",
    "\n",
    "Let's get housing data in addition to population."
   ]
  },
  {
   "cell_type": "code",
   "execution_count": null,
   "metadata": {},
   "outputs": [],
   "source": [
    "# Get multiple variables at once\n",
    "print(\"🏠 Fetching housing and population data...\")\n",
    "\n",
    "housing_data = pc.get_census(\n",
    "    dataset='CA16',\n",
    "    regions={'CMA': '59933'},\n",
    "    vectors=[\n",
    "        'v_CA16_1',    # Total population\n",
    "        'v_CA16_408',  # Total dwellings by type\n",
    "        'v_CA16_409',  # Single-detached houses\n",
    "        'v_CA16_410'   # Apartments 5+ storeys\n",
    "    ],\n",
    "    level='CSD'\n",
    ")\n",
    "\n",
    "print(f\"✅ Housing data retrieved!\")\n",
    "print(f\"📊 Variables: {len([c for c in housing_data.columns if c.startswith('v_')])}\")\n",
    "\n",
    "# Show the variable names\n",
    "print(\"\\n📋 Available variables:\")\n",
    "for col in housing_data.columns:\n",
    "    if col.startswith('v_CA16_'):\n",
    "        print(f\"  {col}\")"
   ]
  },
  {
   "cell_type": "markdown",
   "metadata": {},
   "source": [
    "## 6. Simple Analysis"
   ]
  },
  {
   "cell_type": "code",
   "execution_count": null,
   "metadata": {},
   "outputs": [],
   "source": [
    "# Perform basic analysis\n",
    "print(\"📊 Basic Statistics - Vancouver CMA\")\n",
    "print(\"=\" * 40)\n",
    "\n",
    "# Population statistics\n",
    "total_pop = housing_data['Population '].sum() if 'Population ' in housing_data.columns else housing_data['pop'].sum()\n",
    "num_regions = len(housing_data)\n",
    "avg_pop = total_pop / num_regions\n",
    "\n",
    "print(f\"📍 Total Regions: {num_regions}\")\n",
    "print(f\"👥 Total Population: {total_pop:,}\")\n",
    "print(f\"📊 Average Population per Region: {avg_pop:,.0f}\")\n",
    "\n",
    "# Find the most and least populous regions\n",
    "pop_col = 'Population ' if 'Population ' in housing_data.columns else 'pop'\n",
    "name_col = 'Region Name' if 'Region Name' in housing_data.columns else 'name'\n",
    "\n",
    "most_populous = housing_data.loc[housing_data[pop_col].idxmax()]\n",
    "least_populous = housing_data.loc[housing_data[pop_col].idxmin()]\n",
    "\n",
    "print(f\"\\n🏆 Most Populous: {most_populous[name_col]} ({most_populous[pop_col]:,} people)\")\n",
    "print(f\"🏠 Least Populous: {least_populous[name_col]} ({least_populous[pop_col]:,} people)\")\n",
    "\n",
    "# Housing analysis (if housing columns are available)\n",
    "housing_cols = [col for col in housing_data.columns if 'house' in col.lower() or 'apartment' in col.lower()]\n",
    "if housing_cols:\n",
    "    print(f\"\\n🏠 Housing data available for {len(housing_cols)} housing types\")"
   ]
  },
  {
   "cell_type": "markdown",
   "metadata": {},
   "source": [
    "## 7. Different Geographic Levels\n",
    "\n",
    "You can get data at different levels of geographic detail."
   ]
  },
  {
   "cell_type": "code",
   "execution_count": null,
   "metadata": {},
   "outputs": [],
   "source": [
    "# Compare different geographic levels\n",
    "print(\"🎯 Comparing geographic levels...\")\n",
    "\n",
    "levels = {\n",
    "    'CMA': 'Census Metropolitan Area',\n",
    "    'CSD': 'Census Subdivision', \n",
    "    'CT': 'Census Tract'\n",
    "}\n",
    "\n",
    "for level_code, level_name in levels.items():\n",
    "    try:\n",
    "        data = pc.get_census(\n",
    "            dataset='CA16',\n",
    "            regions={'CMA': '59933'},\n",
    "            vectors=['v_CA16_1'],\n",
    "            level=level_code,\n",
    "            quiet=True\n",
    "        )\n",
    "        \n",
    "        print(f\"📍 {level_name} ({level_code}): {len(data)} regions\")\n",
    "        \n",
    "    except Exception as e:\n",
    "        print(f\"❌ {level_name} ({level_code}): Error - {e}\")"
   ]
  },
  {
   "cell_type": "markdown",
   "metadata": {},
   "source": [
    "## 8. Multiple Regions\n",
    "\n",
    "You can get data for multiple cities or regions at once."
   ]
  },
  {
   "cell_type": "code",
   "execution_count": null,
   "metadata": {},
   "outputs": [],
   "source": [
    "# Get data for multiple major Canadian cities\n",
    "print(\"🌆 Fetching data for major Canadian cities...\")\n",
    "\n",
    "major_cities = pc.get_census(\n",
    "    dataset='CA16',\n",
    "    regions={\n",
    "        'CMA': ['59933', '35535', '24462']  # Vancouver, Toronto, Montreal\n",
    "    },\n",
    "    vectors=['v_CA16_1'],\n",
    "    level='CMA'\n",
    ")\n",
    "\n",
    "print(f\"✅ Data for {len(major_cities)} major cities retrieved\")\n",
    "\n",
    "# Display the cities\n",
    "name_col = 'Region Name' if 'Region Name' in major_cities.columns else 'name'\n",
    "pop_col = 'Population ' if 'Population ' in major_cities.columns else 'pop'\n",
    "\n",
    "print(\"\\n🏙️  Major Canadian Cities (2016):\")\n",
    "for _, city in major_cities.iterrows():\n",
    "    print(f\"   {city[name_col]}: {city[pop_col]:,} people\")"
   ]
  },
  {
   "cell_type": "markdown",
   "metadata": {},
   "source": [
    "## 9. Caching\n",
    "\n",
    "pycancensus automatically caches your data requests to speed up repeated queries."
   ]
  },
  {
   "cell_type": "code",
   "execution_count": null,
   "metadata": {},
   "outputs": [],
   "source": [
    "# Demonstrate caching\n",
    "import time\n",
    "\n",
    "print(\"⏱️  Testing cache performance...\")\n",
    "\n",
    "# First call (will hit the API)\n",
    "start_time = time.time()\n",
    "data1 = pc.get_census(\n",
    "    dataset='CA16',\n",
    "    regions={'CMA': '59933'},\n",
    "    vectors=['v_CA16_1'],\n",
    "    level='CSD',\n",
    "    use_cache=True\n",
    ")\n",
    "first_call_time = time.time() - start_time\n",
    "\n",
    "# Second call (should use cache)\n",
    "start_time = time.time()\n",
    "data2 = pc.get_census(\n",
    "    dataset='CA16',\n",
    "    regions={'CMA': '59933'},\n",
    "    vectors=['v_CA16_1'],\n",
    "    level='CSD',\n",
    "    use_cache=True\n",
    ")\n",
    "second_call_time = time.time() - start_time\n",
    "\n",
    "print(f\"⏱️  First call: {first_call_time:.2f} seconds\")\n",
    "print(f\"⚡ Second call: {second_call_time:.2f} seconds\")\n",
    "print(f\"🚀 Speedup: {first_call_time/second_call_time:.1f}x faster\")\n",
    "print(f\"✅ Data identical: {data1.equals(data2)}\")\n",
    "\n",
    "# View cache information\n",
    "cache_info = pc.list_cache()\n",
    "print(f\"\\n💾 Cache contains {len(cache_info)} items\")"
   ]
  },
  {
   "cell_type": "markdown",
   "metadata": {},
   "source": [
    "## Next Steps\n",
    "\n",
    "Now that you've learned the basics of pycancensus, you can:\n",
    "\n",
    "### 🎯 Explore More Data:\n",
    "- Try different census years (CA21, CA11, CA06)\n",
    "- Explore different geographic levels (DA, CT, CD)\n",
    "- Get data for your local area\n",
    "\n",
    "### 📊 Advanced Analysis:\n",
    "- Compare demographic trends over time\n",
    "- Analyze housing patterns and affordability\n",
    "- Study income and employment data\n",
    "- Examine immigration and language patterns\n",
    "\n",
    "### 🗺️ Mapping and Visualization:\n",
    "- Create interactive maps with plotly or folium\n",
    "- Build choropleth maps showing data patterns\n",
    "- Combine with other geographic data sources\n",
    "\n",
    "### 📚 Resources:\n",
    "- **Package documentation**: Check the function help with `help(pc.get_census)`\n",
    "- **Example notebooks**: Look at `housing_analysis_vancouver.ipynb` for advanced examples\n",
    "- **CensusMapper**: Visit https://censusmapper.ca/ for interactive data exploration\n",
    "- **Statistics Canada**: https://www.statcan.gc.ca/ for official census documentation\n",
    "\n",
    "### 💡 Tips:\n",
    "- Use `quiet=True` to suppress progress messages\n",
    "- Enable caching with `use_cache=True` for better performance\n",
    "- Start with small geographic areas and expand as needed\n",
    "- Check variable names carefully - they change between census years\n",
    "\n",
    "Happy analyzing! 🎉"
   ]
  }
 ],
 "metadata": {
  "kernelspec": {
   "display_name": "Python 3",\n",
   "language": "python",\n",
   "name": "python3"\n  },\n  "language_info": {\n   "codemirror_mode": {\n    "name": "ipython",\n    "version": 3\n   },\n   "file_extension": ".py",\n   "mimetype": "text/x-python",\n   "name": "python",\n   "nbconvert_exporter": "python",\n   "pygments_lexer": "ipython3",\n   "version": "3.9.6"\n  }\n },\n "nbformat": 4,\n "nbformat_minor": 4\n}