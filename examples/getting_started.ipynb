{
 "cells": [
  {
   "cell_type": "markdown",
   "metadata": {},
   "source": [
    "# Getting Started with pycancensus\n",
    "\n",
    "This notebook provides a quick introduction to using the enhanced pycancensus package for accessing Canadian Census data.\n",
    "\n",
    "## What is pycancensus?\n",
    "\n",
    "pycancensus is a Python package that provides easy access to Canadian Census data through the CensusMapper API. It's the Python equivalent of the popular R `cancensus` package, with **full R library equivalence**.\n",
    "\n",
    "### Key Features:\n",
    "- ✅ **Full R Library Equivalence** (verified through automated testing)\n",
    "- 🔍 **Enhanced Variable Discovery** with hierarchy navigation\n",
    "- 🛡️ **Production-Grade Error Handling** with helpful messages\n",
    "- ⚡ **Progress Indicators** for large downloads\n",
    "- 📊 **Improved Data Quality** with clean column processing\n",
    "- 🗺️ **Geographic Data Integration** with GeoPandas\n",
    "- 📅 **Multi-Year Support** (1996-2021)\n",
    "- 🚀 **High Performance** with intelligent caching\n",
    "\n",
    "## Installation\n",
    "\n",
    "Install directly from GitHub (not yet on PyPI):\n",
    "```bash\n",
    "pip install git+https://github.com/dshkol/pycancensus.git\n",
    "```"
   ]
  },
  {
   "cell_type": "markdown",
   "metadata": {},
   "source": [
    "## Setup"
   ]
  },
  {
   "cell_type": "code",
   "execution_count": null,
   "metadata": {},
   "outputs": [],
   "source": [
    "# Import required libraries\n",
    "import pandas as pd\n",
    "import geopandas as gpd\n",
    "import matplotlib.pyplot as plt\n",
    "import pycancensus as pc\n",
    "\n",
    "print(\"✅ Libraries imported successfully!\")\n",
    "print(f\"📦 pycancensus version: {pc.__version__}\")"
   ]
  },
  {
   "cell_type": "markdown",
   "metadata": {},
   "source": [
    "## API Key Setup\n",
    "\n",
    "You'll need a free API key from CensusMapper to access the data."
   ]
  },
  {
   "cell_type": "code",
   "execution_count": null,
   "metadata": {},
   "outputs": [],
   "source": [
    "# Set your API key (get one free at https://censusmapper.ca/users/sign_up)\n",
    "# pc.set_api_key(\"your_api_key_here\")\n",
    "\n",
    "# Check if API key is set\n",
    "if pc.get_api_key():\n",
    "    print(\"✅ API key is configured\")\n",
    "else:\n",
    "    print(\"⚠️  Please set your API key with: pc.set_api_key('your_key')\")\n",
    "    print(\"   Get a free key at: https://censusmapper.ca/users/sign_up\")"
   ]
  },
  {
   "cell_type": "markdown",
   "metadata": {},
   "source": [
    "## 1. Explore Available Data"
   ]
  },
  {
   "cell_type": "code",
   "execution_count": null,
   "metadata": {},
   "outputs": [],
   "source": [
    "# List available datasets\n",
    "datasets = pc.list_census_datasets()\n",
    "print(\"📋 Available Census datasets:\")\n",
    "print(datasets)"
   ]
  },
  {
   "cell_type": "code",
   "execution_count": null,
   "metadata": {},
   "outputs": [],
   "source": [
    "# List some regions for the 2021 Census\n",
    "regions = pc.list_census_regions(\"CA21\")\n",
    "print(f\"📍 Found {len(regions)} regions in the 2021 Census\")\n",
    "print(\"\\nSample regions:\")\n",
    "print(regions.head())"
   ]
  },
  {
   "cell_type": "markdown",
   "metadata": {},
   "source": [
    "## 2. NEW: Enhanced Variable Discovery\n",
    "\n",
    "The enhanced pycancensus includes powerful new functions for discovering and navigating census variables."
   ]
  },
  {
   "cell_type": "code",
   "execution_count": null,
   "metadata": {},
   "outputs": [],
   "source": [
    "# NEW: Use enhanced search to find variables\n",
    "print(\"🔍 Enhanced Variable Discovery:\")\n",
    "\n",
    "# Find income-related variables\n",
    "income_vars = pc.find_census_vectors(\"CA21\", \"income\")\n",
    "print(f\"Found {len(income_vars)} income-related variables\")\n",
    "\n",
    "# Traditional search still works\n",
    "pop_vars = pc.search_census_vectors(\"population\", \"CA21\")\n",
    "print(f\"Found {len(pop_vars)} population variables\")\n",
    "\n",
    "# Show some examples\n",
    "print(\"\\nExample population variables:\")\n",
    "print(pop_vars[['vector', 'label']].head())"
   ]
  },
  {
   "cell_type": "code",
   "execution_count": null,
   "metadata": {},
   "outputs": [],
   "source": [
    "# NEW: Navigate variable hierarchies\n",
    "print(\"🌳 Variable Hierarchy Navigation:\")\n",
    "\n",
    "base_vector = \"v_CA21_1\"  # Total population\n",
    "\n",
    "# Find parent variables\n",
    "parents = pc.parent_census_vectors(base_vector, dataset=\"CA21\")\n",
    "print(f\"Found {len(parents)} parent variables for {base_vector}\")\n",
    "\n",
    "# Find child variables (breakdowns)\n",
    "children = pc.child_census_vectors(base_vector, dataset=\"CA21\")\n",
    "print(f\"Found {len(children)} child variables for {base_vector}\")\n",
    "\n",
    "if len(children) > 0:\n",
    "    print(\"\\nChild variables (population breakdowns):\")\n",
    "    print(children[['vector', 'label']].head())"
   ]
  },
  {
   "cell_type": "markdown",
   "metadata": {},
   "source": [
    "## 3. Get Census Data"
   ]
  },
  {
   "cell_type": "code",
   "execution_count": null,
   "metadata": {},
   "outputs": [],
   "source": [
    "# Get population data for Toronto CMA\n",
    "print(\"📊 Retrieving census data for Toronto CMA...\")\n",
    "\n",
    "toronto_data = pc.get_census(\n",
    "    dataset=\"CA21\",\n",
    "    regions={\"CMA\": \"35535\"},  # Toronto CMA\n",
    "    vectors=[\"v_CA21_1\", \"v_CA21_2\", \"v_CA21_3\"],  # Total, Male, Female population\n",
    "    level=\"CSD\"  # Census Subdivision (municipalities)\n",
    ")\n",
    "\n",
    "print(f\"✅ Retrieved data for {len(toronto_data)} municipalities\")\n",
    "print(f\"📋 Columns: {list(toronto_data.columns)}\")\n",
    "print(\"\\nSample data:\")\n",
    "print(toronto_data.head())"
   ]
  },
  {
   "cell_type": "code",
   "execution_count": null,
   "metadata": {},
   "outputs": [],
   "source": [
    "# Basic analysis\n",
    "print(\"📈 Quick Analysis:\")\n",
    "print(f\"Total Toronto CMA Population: {toronto_data['Population'].sum():,}\")\n",
    "print(f\"Largest municipality: {toronto_data.loc[toronto_data['Population'].idxmax(), 'Region Name']}\")\n",
    "print(f\"Smallest municipality: {toronto_data.loc[toronto_data['Population'].idxmin(), 'Region Name']}\")\n",
    "\n",
    "# Plot population by municipality\n",
    "plt.figure(figsize=(12, 6))\n",
    "top_10 = toronto_data.nlargest(10, 'Population')\n",
    "plt.barh(range(len(top_10)), top_10['Population'])\n",
    "plt.yticks(range(len(top_10)), top_10['Region Name'])\n",
    "plt.xlabel('Population')\n",
    "plt.title('Top 10 Most Populous Municipalities in Toronto CMA (2021)')\n",
    "plt.tight_layout()\n",
    "plt.show()"
   ]
  },
  {
   "cell_type": "markdown",
   "metadata": {},
   "source": [
    "## 4. Geographic Data"
   ]
  },
  {
   "cell_type": "code",
   "execution_count": null,
   "metadata": {},
   "outputs": [],
   "source": [
    "# Get data with geographic boundaries\n",
    "print(\"🗺️  Retrieving geographic data...\")\n",
    "\n",
    "geo_data = pc.get_census(\n",
    "    dataset=\"CA21\",\n",
    "    regions={\"PR\": \"11\"},  # Prince Edward Island (smaller for demo)\n",
    "    vectors=[\"v_CA21_1\"],  # Total population\n",
    "    level=\"CSD\",\n",
    "    geo_format=\"geopandas\"  # Returns GeoDataFrame with geometry\n",
    ")\n",
    "\n",
    "print(f\"✅ Retrieved geographic data for {len(geo_data)} regions\")\n",
    "print(f\"📐 Coordinate system: {geo_data.crs}\")\n",
    "print(f\"🗺️  Geometry type: {geo_data.geometry.geom_type.iloc[0]}\")"
   ]
  },
  {
   "cell_type": "code",
   "execution_count": null,
   "metadata": {},
   "outputs": [],
   "source": [
    "# Simple map\n",
    "fig, ax = plt.subplots(figsize=(10, 8))\n",
    "geo_data.plot(column='Population', \n",
    "              cmap='viridis', \n",
    "              legend=True,\n",
    "              ax=ax)\n",
    "ax.set_title('Population by Municipality - Prince Edward Island (2021)')\n",
    "ax.set_axis_off()\n",
    "plt.tight_layout()\n",
    "plt.show()"
   ]
  },
  {
   "cell_type": "markdown",
   "metadata": {},
   "source": [
    "## 5. Enhanced Error Handling\n",
    "\n",
    "The new pycancensus includes production-grade error handling with helpful messages."
   ]
  },
  {
   "cell_type": "code",
   "execution_count": null,
   "metadata": {},
   "outputs": [],
   "source": [
    "# Demonstrate enhanced error handling\n",
    "print(\"🛡️  Testing enhanced error handling...\")\n",
    "\n",
    "try:\n",
    "    # Try to get data with invalid region\n",
    "    pc.get_census(\n",
    "        dataset=\"CA21\",\n",
    "        regions={\"INVALID\": \"99999\"},\n",
    "        vectors=[\"v_CA21_1\"],\n",
    "        level=\"PR\"\n",
    "    )\n",
    "except Exception as e:\n",
    "    print(f\"✅ Caught error gracefully: {type(e).__name__}\")\n",
    "    print(f\"💡 Helpful message: {str(e)}\")"
   ]
  },
  {
   "cell_type": "markdown",
   "metadata": {},
   "source": [
    "## Next Steps\n",
    "\n",
    "Now you're ready to explore Canadian Census data with pycancensus! Here are some ideas:\n",
    "\n",
    "### 📚 Learn More:\n",
    "- Check out the other example notebooks\n",
    "- Read the comprehensive documentation\n",
    "- Explore the cross-validation tests with R\n",
    "\n",
    "### 🔍 Explore Data:\n",
    "- Use the hierarchy functions to discover related variables\n",
    "- Compare different Census years (2016 vs 2021)\n",
    "- Analyze demographic trends in your area of interest\n",
    "\n",
    "### 🗺️ Create Maps:\n",
    "- Use GeoPandas for spatial analysis\n",
    "- Create choropleth maps of demographic variables\n",
    "- Combine with other geographic datasets\n",
    "\n",
    "### 📊 Analyze Trends:\n",
    "- Study population growth patterns\n",
    "- Examine housing and income data\n",
    "- Compare urban vs rural demographics\n",
    "\n",
    "**Happy analyzing! 🎉**"
   ]
  }
 ],
 "metadata": {
  "kernelspec": {
   "display_name": "Python 3",
   "language": "python",
   "name": "python3"
  },
  "language_info": {
   "codemirror_mode": {
    "name": "ipython",
    "version": 3
   },
   "file_extension": ".py",
   "mimetype": "text/x-python",
   "name": "python",
   "nbconvert_exporter": "python",
   "pygments_lexer": "ipython3",
   "version": "3.9.6"
  }
 },
 "nbformat": 4,
 "nbformat_minor": 4
}